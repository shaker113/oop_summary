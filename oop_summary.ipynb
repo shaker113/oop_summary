{
 "cells": [
  {
   "attachments": {},
   "cell_type": "markdown",
   "metadata": {},
   "source": [
    "# OOP"
   ]
  },
  {
   "attachments": {},
   "cell_type": "markdown",
   "metadata": {},
   "source": [
    "## Classes"
   ]
  },
  {
   "attachments": {},
   "cell_type": "markdown",
   "metadata": {},
   "source": [
    "The class describes what the object will be, but is separate from the object itself. In other words, a class can be described as an object's blueprint, description, or definition.\n",
    "* You can use the same class as a blueprint for creating multiple different objects. \n",
    "* functions inside a class is called methods\n"
   ]
  },
  {
   "cell_type": "code",
   "execution_count": 22,
   "metadata": {},
   "outputs": [
    {
     "name": "stdout",
     "output_type": "stream",
     "text": [
      "ginger\n",
      "orange\n"
     ]
    }
   ],
   "source": [
    "class Cat:\n",
    "    color=\"ginger\"\n",
    "\n",
    "\n",
    "cat0=Cat()\n",
    "print(cat0.color)\n",
    "\n",
    "Cat.color=\"orange\"\n",
    "print(cat0.color)\n"
   ]
  },
  {
   "attachments": {},
   "cell_type": "markdown",
   "metadata": {},
   "source": [
    "#### The **\\_\\_init\\_\\_** Function \n",
    "\n",
    "This is called when an instance (object) of the class is created, using the class name as a function.\n",
    "\n",
    "**Note** : \n",
    "* All methods must have self as their **first parameter** ((self refers to the instance calling the method)) ,it does not have to be named self.\n",
    "* Instances of a class have attributes, which are pieces of data associated with them\n",
    "* The **\\_\\_init\\_\\_()** function is called automatically every time the class is being used to create a new object."
   ]
  },
  {
   "cell_type": "code",
   "execution_count": 23,
   "metadata": {},
   "outputs": [
    {
     "name": "stdout",
     "output_type": "stream",
     "text": [
      "shaker\n",
      "22\n",
      "<__main__.Person object at 0x0000013BF50863E0>\n"
     ]
    }
   ],
   "source": [
    "class Person:\n",
    "  def __init__(self, name, age):\n",
    "    self.name = name\n",
    "    self.age = age\n",
    "\n",
    "p1 = Person(\"shaker\", 22)\n",
    "p2=Person(\"John\", 36)\n",
    "print(p1.name)\n",
    "print(p1.age)\n",
    "print(p2)"
   ]
  },
  {
   "attachments": {},
   "cell_type": "markdown",
   "metadata": {},
   "source": [
    "#### The **\\_\\_str\\_\\_()** Function\n",
    "\n",
    "this function controls what should be returned when the class object is represented as a string."
   ]
  },
  {
   "cell_type": "code",
   "execution_count": 24,
   "metadata": {},
   "outputs": [
    {
     "name": "stdout",
     "output_type": "stream",
     "text": [
      "shaker\n",
      "22\n",
      "my name is John, my age is (36)\n"
     ]
    }
   ],
   "source": [
    "class Person:\n",
    "    def __init__(self, name, age):\n",
    "        self.name = name\n",
    "        self.age = age\n",
    "\n",
    "    def __str__(self):\n",
    "        return f\"my name is {self.name}, my age is ({self.age})\"\n",
    "\n",
    "p1 = Person(\"shaker\", 22)\n",
    "p2 = Person(\"John\", 36)\n",
    "\n",
    "print(p1.name)\n",
    "print(p1.age)\n",
    "print(p2)"
   ]
  },
  {
   "attachments": {},
   "cell_type": "markdown",
   "metadata": {},
   "source": [
    "#### Methods\n",
    "\n",
    "Classes can have other methods defined to add functionality to them,\n",
    "Remember, that all methods must have self as their first parameter."
   ]
  },
  {
   "cell_type": "code",
   "execution_count": 25,
   "metadata": {},
   "outputs": [
    {
     "name": "stdout",
     "output_type": "stream",
     "text": [
      "Sweety said meeow\n"
     ]
    }
   ],
   "source": [
    "class Cat:\n",
    "    def __init__(self,name,color):\n",
    "        self.name=name\n",
    "        self.color=color\n",
    "    \n",
    "    def Meow(self):\n",
    "        print(f\"{self.name} said meeow\")\n",
    "    \n",
    "sweety=Cat(\"Sweety\",\"black\")\n",
    "sweety.Meow()"
   ]
  },
  {
   "attachments": {},
   "cell_type": "markdown",
   "metadata": {},
   "source": [
    "### Modify Object Properties\n"
   ]
  },
  {
   "attachments": {},
   "cell_type": "markdown",
   "metadata": {},
   "source": [
    "#### Delete Object Properties\n",
    "\n",
    "*  del keyword : can delete objects"
   ]
  },
  {
   "cell_type": "code",
   "execution_count": 26,
   "metadata": {},
   "outputs": [],
   "source": [
    "del p2.age\n",
    "del p2"
   ]
  },
  {
   "attachments": {},
   "cell_type": "markdown",
   "metadata": {},
   "source": [
    "#### The pass Statement\n",
    "\n",
    "class definitions cannot be empty, but if you for some reason have a class definition with no content, put in the **pass** statement or **...** to avoid getting an error."
   ]
  },
  {
   "cell_type": "code",
   "execution_count": 27,
   "metadata": {},
   "outputs": [],
   "source": [
    "class Test1:\n",
    "    ...\n",
    "\n",
    "class Test1:\n",
    "    pass\n"
   ]
  }
 ],
 "metadata": {
  "kernelspec": {
   "display_name": "Python 3",
   "language": "python",
   "name": "python3"
  },
  "language_info": {
   "codemirror_mode": {
    "name": "ipython",
    "version": 3
   },
   "file_extension": ".py",
   "mimetype": "text/x-python",
   "name": "python",
   "nbconvert_exporter": "python",
   "pygments_lexer": "ipython3",
   "version": "3.10.9"
  },
  "orig_nbformat": 4,
  "vscode": {
   "interpreter": {
    "hash": "84fd2673a0f847bf80637898000f9b4175f2ffd476d5f31b41a838c2acdb5b76"
   }
  }
 },
 "nbformat": 4,
 "nbformat_minor": 2
}
