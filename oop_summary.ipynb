{
 "cells": [
  {
   "attachments": {},
   "cell_type": "markdown",
   "metadata": {},
   "source": [
    "# OOP"
   ]
  },
  {
   "attachments": {},
   "cell_type": "markdown",
   "metadata": {},
   "source": [
    "## Classes"
   ]
  },
  {
   "attachments": {},
   "cell_type": "markdown",
   "metadata": {},
   "source": [
    "The class describes what the object will be, but is separate from the object itself. In other words, a class can be described as an object's blueprint, description, or definition.\n",
    "* You can use the same class as a blueprint for creating multiple different objects. \n",
    "* functions inside a class is called methods\n"
   ]
  },
  {
   "cell_type": "code",
   "execution_count": 22,
   "metadata": {},
   "outputs": [
    {
     "name": "stdout",
     "output_type": "stream",
     "text": [
      "ginger\n",
      "orange\n"
     ]
    }
   ],
   "source": [
    "class Cat:\n",
    "    color=\"ginger\"\n",
    "\n",
    "\n",
    "cat0=Cat()\n",
    "print(cat0.color)\n",
    "\n",
    "Cat.color=\"orange\"\n",
    "print(cat0.color)\n"
   ]
  },
  {
   "attachments": {},
   "cell_type": "markdown",
   "metadata": {},
   "source": [
    "#### The **\\_\\_init\\_\\_** Function \n",
    "\n",
    "This is called when an instance (object) of the class is created, using the class name as a function.\n",
    "\n",
    "**Note** : \n",
    "* All methods must have self as their **first parameter** ((self refers to the instance calling the method)) ,it does not have to be named self.\n",
    "* Instances of a class have attributes, which are pieces of data associated with them\n",
    "* The **\\_\\_init\\_\\_()** function is called automatically every time the class is being used to create a new object."
   ]
  },
  {
   "cell_type": "code",
   "execution_count": 23,
   "metadata": {},
   "outputs": [
    {
     "name": "stdout",
     "output_type": "stream",
     "text": [
      "shaker\n",
      "22\n",
      "<__main__.Person object at 0x0000013BF50863E0>\n"
     ]
    }
   ],
   "source": [
    "class Person:\n",
    "  def __init__(self, name, age):\n",
    "    self.name = name\n",
    "    self.age = age\n",
    "\n",
    "p1 = Person(\"shaker\", 22)\n",
    "p2=Person(\"John\", 36)\n",
    "print(p1.name)\n",
    "print(p1.age)\n",
    "print(p2)"
   ]
  },
  {
   "attachments": {},
   "cell_type": "markdown",
   "metadata": {},
   "source": [
    "#### The **\\_\\_str\\_\\_()** Function\n",
    "\n",
    "this function controls what should be returned when the class object is represented as a string."
   ]
  },
  {
   "cell_type": "code",
   "execution_count": 24,
   "metadata": {},
   "outputs": [
    {
     "name": "stdout",
     "output_type": "stream",
     "text": [
      "shaker\n",
      "22\n",
      "my name is John, my age is (36)\n"
     ]
    }
   ],
   "source": [
    "class Person:\n",
    "    def __init__(self, name, age):\n",
    "        self.name = name\n",
    "        self.age = age\n",
    "\n",
    "    def __str__(self):\n",
    "        return f\"my name is {self.name}, my age is ({self.age})\"\n",
    "\n",
    "p1 = Person(\"shaker\", 22)\n",
    "p2 = Person(\"John\", 36)\n",
    "\n",
    "print(p1.name)\n",
    "print(p1.age)\n",
    "print(p2)"
   ]
  },
  {
   "attachments": {},
   "cell_type": "markdown",
   "metadata": {},
   "source": [
    "#### Methods\n",
    "\n",
    "Classes can have other methods defined to add functionality to them,\n",
    "Remember, that all methods must have self as their first parameter."
   ]
  },
  {
   "cell_type": "code",
   "execution_count": 25,
   "metadata": {},
   "outputs": [
    {
     "name": "stdout",
     "output_type": "stream",
     "text": [
      "Sweety said meeow\n"
     ]
    }
   ],
   "source": [
    "class Cat:\n",
    "    def __init__(self,name,color):\n",
    "        self.name=name\n",
    "        self.color=color\n",
    "    \n",
    "    def Meow(self):\n",
    "        print(f\"{self.name} said meeow\")\n",
    "    \n",
    "sweety=Cat(\"Sweety\",\"black\")\n",
    "sweety.Meow()"
   ]
  },
  {
   "attachments": {},
   "cell_type": "markdown",
   "metadata": {},
   "source": [
    "### Modify Object Properties\n"
   ]
  },
  {
   "attachments": {},
   "cell_type": "markdown",
   "metadata": {},
   "source": [
    "#### Delete Object Properties\n",
    "\n",
    "*  del keyword : can delete objects"
   ]
  },
  {
   "cell_type": "code",
   "execution_count": 26,
   "metadata": {},
   "outputs": [],
   "source": [
    "del p2.age\n",
    "del p2"
   ]
  },
  {
   "attachments": {},
   "cell_type": "markdown",
   "metadata": {},
   "source": [
    "#### The pass Statement\n",
    "\n",
    "class definitions cannot be empty, but if you for some reason have a class definition with no content, put in the **pass** statement or **...** to avoid getting an error."
   ]
  },
  {
   "cell_type": "code",
   "execution_count": 27,
   "metadata": {},
   "outputs": [],
   "source": [
    "class Test1:\n",
    "    ...\n",
    "\n",
    "class Test1:\n",
    "    pass\n"
   ]
  },
  {
   "attachments": {},
   "cell_type": "markdown",
   "metadata": {},
   "source": [
    "## Inheritance"
   ]
  },
  {
   "attachments": {},
   "cell_type": "markdown",
   "metadata": {},
   "source": [
    "**Inheritance** allows us to define a class that inherits all the methods and properties from another class (a way to share functionality between classes)\n",
    "\n",
    "* **Parent class** is the class being inherited from, also called base class.\n",
    "\n",
    "* **Child class** is the class that inherits from another class, also called derived class.\n",
    "\n",
    "**Note** : If a class inherits from another with the same attributes or methods, it overrides them. \n",
    "\n"
   ]
  },
  {
   "cell_type": "code",
   "execution_count": 40,
   "metadata": {},
   "outputs": [
    {
     "name": "stdout",
     "output_type": "stream",
     "text": [
      "brown\n",
      "Woof!\n",
      "Purr...\n",
      "Grr...\n",
      "Grr...\n"
     ]
    }
   ],
   "source": [
    "class Animal:      # perent calss ((superclass))\n",
    "  def __init__(self, name, color):\n",
    "    self.name = name\n",
    "    self.color = color\n",
    "    \n",
    "  def bark(self):\n",
    "    print(\"Grr...\")\n",
    "\n",
    "\n",
    "class Cat(Animal): # child class ((subclass))\n",
    "  def purr(self):\n",
    "    print(\"Purr...\")\n",
    "\n",
    "  def inherited_methode(self):\n",
    "    super().bark()\n",
    "        \n",
    "class Dog(Animal): # child class ((subclass))\n",
    "  def bark(self):  # this methode will override the bark methode inside Animal Class\n",
    "    print(\"Woof!\")\n",
    "\n",
    "fido = Dog(\"Fido\", \"brown\")\n",
    "print(fido.color)\n",
    "fido.bark()\n",
    "\n",
    "sweety=Cat(\"Sweety\",\"black\")\n",
    "sweety.purr()\n",
    "sweety.bark()\n",
    "sweety.inherited_methode()\n",
    "\n"
   ]
  },
  {
   "attachments": {},
   "cell_type": "markdown",
   "metadata": {},
   "source": [
    "### **Another example**"
   ]
  },
  {
   "cell_type": "code",
   "execution_count": 41,
   "metadata": {},
   "outputs": [
    {
     "name": "stdout",
     "output_type": "stream",
     "text": [
      "Mike Olsen\n"
     ]
    }
   ],
   "source": [
    "class Person:\n",
    "  def __init__(self, fname, lname):\n",
    "    self.firstname = fname\n",
    "    self.lastname = lname\n",
    "\n",
    "  def printname(self):\n",
    "    print(self.firstname, self.lastname)\n",
    "\n",
    "class Student(Person):\n",
    "  def __init__(self, fname, lname):\n",
    "    Person.__init__(self, fname, lname)  # we can write super() or the name of the super class\n",
    "\n",
    "x = Student(\"Mike\", \"Olsen\")\n",
    "x.printname()\n"
   ]
  },
  {
   "attachments": {},
   "cell_type": "markdown",
   "metadata": {},
   "source": [
    "## Magic Methods \n"
   ]
  },
  {
   "attachments": {},
   "cell_type": "markdown",
   "metadata": {},
   "source": [
    "**Magic methods**  aka **dunders** are special methods which have double underscores at the beginning and end of their names.\n",
    "* One common use of them is **operator overloading**. "
   ]
  },
  {
   "attachments": {},
   "cell_type": "markdown",
   "metadata": {},
   "source": [
    "### **operator overloading**\n",
    "This means defining operators for custom classes that allow operators such as + and * to be used on them."
   ]
  },
  {
   "attachments": {},
   "cell_type": "markdown",
   "metadata": {},
   "source": [
    "#### **\\_\\_add\\_\\_ for +**\n",
    "\n",
    "The \\_\\_add__ method allows for the definition of a custom behavior for the + operator in our class.\n",
    "* The expression x + y is translated into x.\\_\\_add__(y)"
   ]
  },
  {
   "cell_type": "code",
   "execution_count": 42,
   "metadata": {},
   "outputs": [
    {
     "name": "stdout",
     "output_type": "stream",
     "text": [
      "8\n",
      "16\n"
     ]
    }
   ],
   "source": [
    "class Vector2D:\n",
    "  def __init__(self, x, y):\n",
    "    self.x = x\n",
    "    self.y = y\n",
    "  def __add__(self, other):\n",
    "    return Vector2D(self.x + other.x, self.y + other.y)\n",
    "\n",
    "first = Vector2D(5, 7)\n",
    "second = Vector2D(3, 9)\n",
    "result = first + second\n",
    "print(result.x)\n",
    "print(result.y)"
   ]
  },
  {
   "attachments": {},
   "cell_type": "markdown",
   "metadata": {},
   "source": [
    "#### More magic methods for common operators:\n",
    "\n",
    "* \\_\\_sub\\_\\_ for -\n",
    "\n",
    "* \\_\\_mul\\_\\_ for *\n",
    "\n",
    "* \\_\\_truediv\\_\\_ for /\n",
    "\n",
    "* \\_\\_floordiv\\_\\_ for //\n",
    "\n",
    "* \\_\\_mod\\_\\_ for %\n",
    "\n",
    "* \\_\\_pow\\_\\_ for **\n",
    "\n",
    "* \\_\\_and\\_\\_ for &\n",
    "\n",
    "* \\_\\_xor\\_\\_ for ^\n",
    "\n",
    "* \\_\\_or\\_\\_ for |\n",
    "\n",
    "* \\_\\_lt\\_\\_ for <\n",
    "\n",
    "* \\_\\_le\\_\\_ for <=\n",
    "\n",
    "* \\_\\_eq\\_\\_ for ==\n",
    "\n",
    "* \\_\\_ne\\_\\_ for !=\n",
    "\n",
    "* \\_\\_gt\\_\\_ for >\n",
    "\n",
    "* \\_\\_ge\\_\\_ for >=\n",
    "\n",
    "**Note** :  If \\_\\_ne\\_\\_ is not implemented, it returns the opposite of  \\_\\_eq\\_\\_.\n",
    "\n",
    "* \\_\\_len\\_\\_ for len()\n",
    "\n",
    "* \\_\\_getitem\\_\\_ for indexing\n",
    "\n",
    "* \\_\\_setitem\\_\\_ for assigning to indexed values\n",
    "\n",
    "* \\_\\_delitem\\_\\_ for deleting indexed values\n",
    "\n",
    "* \\_\\_iter\\_\\_ for iteration over objects (e.g., in for loops)\n",
    "\n",
    "* \\_\\_contains\\_\\_ for in"
   ]
  },
  {
   "attachments": {},
   "cell_type": "markdown",
   "metadata": {},
   "source": [
    "##### examples"
   ]
  },
  {
   "cell_type": "code",
   "execution_count": 43,
   "metadata": {},
   "outputs": [
    {
     "name": "stdout",
     "output_type": "stream",
     "text": [
      "spam\n",
      "============\n",
      "Hello world!\n"
     ]
    }
   ],
   "source": [
    "class SpecialString:\n",
    "  def __init__(self, cont):\n",
    "    self.cont = cont\n",
    "\n",
    "  def __truediv__(self, other):\n",
    "    line = \"=\" * len(other.cont)\n",
    "    return \"\\n\".join([self.cont, line, other.cont])\n",
    "\n",
    "spam = SpecialString(\"spam\")\n",
    "hello = SpecialString(\"Hello world!\")\n",
    "print(spam / hello)"
   ]
  },
  {
   "cell_type": "code",
   "execution_count": 44,
   "metadata": {},
   "outputs": [
    {
     "name": "stdout",
     "output_type": "stream",
     "text": [
      ">spam>eggs\n",
      "e>spam>ggs\n",
      "eg>spam>gs\n",
      "egg>spam>s\n",
      "eggs>spam>\n"
     ]
    }
   ],
   "source": [
    "class SpecialString:\n",
    "  def __init__(self, cont):\n",
    "    self.cont = cont\n",
    "\n",
    "  def __gt__(self, other):\n",
    "    for index in range(len(other.cont)+1):\n",
    "      result = other.cont[:index] + \">\" + self.cont\n",
    "      result += \">\" + other.cont[index:]\n",
    "      print(result)\n",
    "\n",
    "spam = SpecialString(\"spam\")\n",
    "eggs = SpecialString(\"eggs\")\n",
    "spam > eggs"
   ]
  },
  {
   "cell_type": "code",
   "execution_count": 78,
   "metadata": {},
   "outputs": [
    {
     "name": "stdout",
     "output_type": "stream",
     "text": [
      "9\n",
      "8\n",
      "B\n",
      "C\n"
     ]
    }
   ],
   "source": [
    "import random\n",
    "\n",
    "class VagueList:\n",
    "  def __init__(self, cont):\n",
    "    self.cont = cont\n",
    "\n",
    "  def __getitem__(self, index):\n",
    "    return self.cont[index + random.randint(-1, 1)]\n",
    "\n",
    "  def __len__(self):\n",
    "    return random.randint(0, len(self.cont)*2)\n",
    "\n",
    "vague_list = VagueList([\"A\", \"B\", \"C\", \"D\", \"E\"])\n",
    "\n",
    "print(len(vague_list))\n",
    "print(len(vague_list))\n",
    "print(vague_list[2])\n",
    "print(vague_list[2])"
   ]
  },
  {
   "attachments": {},
   "cell_type": "markdown",
   "metadata": {},
   "source": [
    "## Data Hiding \n",
    "  "
   ]
  },
  {
   "attachments": {},
   "cell_type": "markdown",
   "metadata": {},
   "source": [
    "A key part of object-oriented programming is **encapsulation**, which involves packaging of related variables and functions into a single easy-to-use object , \n",
    "a related concept is *data hiding*, which states that implementation details of a class should be hidden."
   ]
  },
  {
   "attachments": {},
   "cell_type": "markdown",
   "metadata": {},
   "source": [
    "### Weakly private methods\n",
    "have a single underscore at the beginning.\n",
    "\n",
    "This signals that they are private, and shouldn't be used by external code. However, it is mostly only a convention, and does not stop external code from accessing them."
   ]
  },
  {
   "cell_type": "code",
   "execution_count": 3,
   "metadata": {},
   "outputs": [
    {
     "name": "stdout",
     "output_type": "stream",
     "text": [
      "[1, 2, 3]\n"
     ]
    }
   ],
   "source": [
    "class Queue:\n",
    "  def __init__(self, contents):\n",
    "    self._hiddenlist = list(contents)\n",
    "\n",
    "queue = Queue([1, 2, 3])\n",
    "\n",
    "print(queue._hiddenlist)"
   ]
  },
  {
   "attachments": {},
   "cell_type": "markdown",
   "metadata": {},
   "source": [
    "### Strongly private methods\n",
    "\n",
    "have a double underscore at the beginning of their names. they can't be accessed from outside the class. \n",
    "* Name mangled methods can still be accessed externally, but by a different name.\n"
   ]
  },
  {
   "cell_type": "code",
   "execution_count": 5,
   "metadata": {},
   "outputs": [
    {
     "name": "stdout",
     "output_type": "stream",
     "text": [
      "7\n",
      "7\n"
     ]
    }
   ],
   "source": [
    "class Spam:\n",
    "  __egg = 7\n",
    "  def print_egg(self):\n",
    "    print(self.__egg)\n",
    "\n",
    "s = Spam()\n",
    "s.print_egg()\n",
    "print(s._Spam__egg)\n",
    "# print(s.__egg) this will give an error"
   ]
  },
  {
   "attachments": {},
   "cell_type": "markdown",
   "metadata": {},
   "source": [
    "## Class & Static Methods\n"
   ]
  },
  {
   "attachments": {},
   "cell_type": "markdown",
   "metadata": {},
   "source": [
    "### Class Methods \n"
   ]
  },
  {
   "attachments": {},
   "cell_type": "markdown",
   "metadata": {},
   "source": [
    "* **Methods of objects** : they are called by an instance of a class which is passed to the self parameter of the method.\n",
    "\n",
    "* **Class methods** : they are called by a class, which is passed to the cls parameter of the method. \n",
    "\n",
    "A common use of these are factory methods, which instantiate an instance of a class, using different parameters than those usually passed to the class constructor.\n",
    "\n",
    "**Note** : Class methods are marked with a classmethod decorator.((@classmethod))\n",
    "\n"
   ]
  },
  {
   "cell_type": "code",
   "execution_count": 6,
   "metadata": {},
   "outputs": [
    {
     "name": "stdout",
     "output_type": "stream",
     "text": [
      "25\n"
     ]
    }
   ],
   "source": [
    "class Rectangle:\n",
    "  def __init__(self, width, height):\n",
    "    self.width = width\n",
    "    self.height = height\n",
    "\n",
    "  def calculate_area(self):\n",
    "    return self.width * self.height\n",
    "\n",
    "  @classmethod\n",
    "  def new_square(cls, side_length): # cls is the class itself\n",
    "    return cls(side_length, side_length)\n",
    "\n",
    "square = Rectangle.new_square(5)\n",
    "print(square.calculate_area())"
   ]
  },
  {
   "attachments": {},
   "cell_type": "markdown",
   "metadata": {},
   "source": [
    "### Static Methods \n"
   ]
  },
  {
   "attachments": {},
   "cell_type": "markdown",
   "metadata": {},
   "source": [
    "**Static methods** : are similar to class methods, except they don't receive any additional arguments; they are identical to normal functions that belong to a class. \n",
    "* They are marked with the staticmethod decorator. ((@staticmethod))\n",
    "\n",
    "Static methods behave like plain functions, except for the fact that you can call them from an instance of the class.\n"
   ]
  },
  {
   "cell_type": "code",
   "execution_count": 9,
   "metadata": {},
   "outputs": [],
   "source": [
    "class Pizza:\n",
    "  def __init__(self, toppings):\n",
    "    self.toppings = toppings\n",
    "\n",
    "  @staticmethod\n",
    "  def validate_topping(topping):\n",
    "    if topping == \"pineapple\":\n",
    "      raise ValueError(\"No pineapples!\")\n",
    "    else:\n",
    "      return True\n",
    "\n",
    "ingredients = [\"cheese\", \"onions\", \"spam\"]\n",
    "if all(Pizza.validate_topping(i) for i in ingredients):\n",
    "  pizza = Pizza(ingredients) "
   ]
  },
  {
   "attachments": {},
   "cell_type": "markdown",
   "metadata": {},
   "source": [
    "## Properties "
   ]
  },
  {
   "attachments": {},
   "cell_type": "markdown",
   "metadata": {},
   "source": [
    "**Properties or Getters** provide a way of customizing access to instance attributes. \n",
    "\n",
    "* They are created by putting the property decorator above a method((@property))\n",
    "\n",
    "**Note** : One common use of a property is to make an attribute read-only.\n",
    "\n"
   ]
  },
  {
   "cell_type": "code",
   "execution_count": 11,
   "metadata": {},
   "outputs": [
    {
     "name": "stdout",
     "output_type": "stream",
     "text": [
      "0\n"
     ]
    }
   ],
   "source": [
    "class Ninja:\n",
    "    def __init__(self):\n",
    "        self._score=0\n",
    "    \n",
    "    @property\n",
    "    def score(self):\n",
    "        return self._score\n",
    "\n",
    "n=Ninja()   \n",
    "print(n.score) \n",
    "# n.score=1 ---> Cannot assign member \"score\" for type \"Ninja\"\n",
    "\n"
   ]
  },
  {
   "attachments": {},
   "cell_type": "markdown",
   "metadata": {},
   "source": [
    "**setter** function sets the corresponding property's value.\n",
    "\n",
    "**Note** : To define a setter, you need to use a decorator of the same name as the property, followed by a dot and the setter keyword."
   ]
  },
  {
   "cell_type": "code",
   "execution_count": 15,
   "metadata": {},
   "outputs": [
    {
     "name": "stdout",
     "output_type": "stream",
     "text": [
      "0\n",
      "1\n",
      "1\n"
     ]
    }
   ],
   "source": [
    "class Ninja:\n",
    "    def __init__(self):\n",
    "        self._score=0\n",
    "    \n",
    "    @property\n",
    "    def score(self):\n",
    "        return self._score\n",
    "\n",
    "    @score.setter\n",
    "    def score(self,new_vlaue):\n",
    "        if abs(self.score-new_vlaue)==1:\n",
    "            self._score=new_vlaue\n",
    "\n",
    "n=Ninja()   \n",
    "print(n.score) \n",
    "n.score=1\n",
    "print(n.score) \n",
    "n.score=3\n",
    "print(n.score) \n"
   ]
  }
 ],
 "metadata": {
  "kernelspec": {
   "display_name": "Python 3",
   "language": "python",
   "name": "python3"
  },
  "language_info": {
   "codemirror_mode": {
    "name": "ipython",
    "version": 3
   },
   "file_extension": ".py",
   "mimetype": "text/x-python",
   "name": "python",
   "nbconvert_exporter": "python",
   "pygments_lexer": "ipython3",
   "version": "3.10.9"
  },
  "orig_nbformat": 4,
  "vscode": {
   "interpreter": {
    "hash": "84fd2673a0f847bf80637898000f9b4175f2ffd476d5f31b41a838c2acdb5b76"
   }
  }
 },
 "nbformat": 4,
 "nbformat_minor": 2
}
